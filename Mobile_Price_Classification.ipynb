{
  "cells": [
    {
      "metadata": {
        "_uuid": "8f2839f25d086af736a60e9eeb907d3b93b6e0e5",
        "_cell_guid": "b1076dfc-b9ad-4769-8c92-a6c4dae69d19",
        "trusted": true,
        "id": "1XM1UsUmV9i8"
      },
      "cell_type": "code",
      "source": [
        "import numpy as np\n",
        "import pandas as pd\n",
        "from sklearn.preprocessing import StandardScaler, OneHotEncoder, LabelEncoder\n",
        "import keras\n",
        "from keras.models import Sequential\n",
        "from keras.layers import *\n",
        "from sklearn.compose import ColumnTransformer\n",
        "import matplotlib.pyplot as plt\n",
        "import pathlib\n",
        "from sklearn.metrics import confusion_matrix, ConfusionMatrixDisplay, classification_report, accuracy_score\n",
        "from sklearn.linear_model import LogisticRegression\n",
        "from sklearn.model_selection import train_test_split, cross_val_score, RepeatedStratifiedKFold\n",
        "from sklearn.pipeline import Pipeline\n",
        "from sklearn.decomposition import PCA\n",
        "from sklearn.manifold import Isomap"
      ],
      "execution_count": null,
      "outputs": []
    },
    {
      "cell_type": "code",
      "source": [
        "from google.colab import drive\n",
        "drive.mount('/mntDrive')"
      ],
      "metadata": {
        "colab": {
          "base_uri": "https://localhost:8080/"
        },
        "id": "GGByLQKYS7Uy",
        "outputId": "7caec881-6579-4bfd-e075-8102df48594a"
      },
      "execution_count": null,
      "outputs": [
        {
          "output_type": "stream",
          "name": "stdout",
          "text": [
            "Mounted at /mntDrive\n"
          ]
        }
      ]
    },
    {
      "cell_type": "markdown",
      "source": [
        "# Build a deep learning classification"
      ],
      "metadata": {
        "id": "KoPlN5WN4eyQ"
      }
    },
    {
      "metadata": {
        "_uuid": "d629ff2d2480ee46fbb7e2d37f6b5fab8052498a",
        "_cell_guid": "79c7e3d0-c299-4dcb-8224-4455121ee9b0",
        "trusted": true,
        "id": "Jn73QdZZV9i-"
      },
      "cell_type": "code",
      "source": [
        "df = pd.read_csv('/mntDrive/MyDrive/AI/mobile-price-dataset/train.csv')"
      ],
      "execution_count": null,
      "outputs": []
    },
    {
      "metadata": {
        "trusted": true,
        "colab": {
          "base_uri": "https://localhost:8080/",
          "height": 299
        },
        "id": "6qQvqkYQV9i_",
        "outputId": "7e389476-7904-4a7f-e32d-ed2e11a660a5"
      },
      "cell_type": "code",
      "source": [
        "df.head()"
      ],
      "execution_count": null,
      "outputs": [
        {
          "output_type": "execute_result",
          "data": {
            "text/plain": [
              "   battery_power  blue  clock_speed  dual_sim  fc  four_g  int_memory  m_dep  \\\n",
              "0            842     0          2.2         0   1       0           7    0.6   \n",
              "1           1021     1          0.5         1   0       1          53    0.7   \n",
              "2            563     1          0.5         1   2       1          41    0.9   \n",
              "3            615     1          2.5         0   0       0          10    0.8   \n",
              "4           1821     1          1.2         0  13       1          44    0.6   \n",
              "\n",
              "   mobile_wt  n_cores  ...  px_height  px_width   ram  sc_h  sc_w  talk_time  \\\n",
              "0        188        2  ...         20       756  2549     9     7         19   \n",
              "1        136        3  ...        905      1988  2631    17     3          7   \n",
              "2        145        5  ...       1263      1716  2603    11     2          9   \n",
              "3        131        6  ...       1216      1786  2769    16     8         11   \n",
              "4        141        2  ...       1208      1212  1411     8     2         15   \n",
              "\n",
              "   three_g  touch_screen  wifi  price_range  \n",
              "0        0             0     1            1  \n",
              "1        1             1     0            2  \n",
              "2        1             1     0            2  \n",
              "3        1             0     0            2  \n",
              "4        1             1     0            1  \n",
              "\n",
              "[5 rows x 21 columns]"
            ],
            "text/html": [
              "\n",
              "  <div id=\"df-cd38a2e4-5383-475d-b7af-ce5af393c48e\">\n",
              "    <div class=\"colab-df-container\">\n",
              "      <div>\n",
              "<style scoped>\n",
              "    .dataframe tbody tr th:only-of-type {\n",
              "        vertical-align: middle;\n",
              "    }\n",
              "\n",
              "    .dataframe tbody tr th {\n",
              "        vertical-align: top;\n",
              "    }\n",
              "\n",
              "    .dataframe thead th {\n",
              "        text-align: right;\n",
              "    }\n",
              "</style>\n",
              "<table border=\"1\" class=\"dataframe\">\n",
              "  <thead>\n",
              "    <tr style=\"text-align: right;\">\n",
              "      <th></th>\n",
              "      <th>battery_power</th>\n",
              "      <th>blue</th>\n",
              "      <th>clock_speed</th>\n",
              "      <th>dual_sim</th>\n",
              "      <th>fc</th>\n",
              "      <th>four_g</th>\n",
              "      <th>int_memory</th>\n",
              "      <th>m_dep</th>\n",
              "      <th>mobile_wt</th>\n",
              "      <th>n_cores</th>\n",
              "      <th>...</th>\n",
              "      <th>px_height</th>\n",
              "      <th>px_width</th>\n",
              "      <th>ram</th>\n",
              "      <th>sc_h</th>\n",
              "      <th>sc_w</th>\n",
              "      <th>talk_time</th>\n",
              "      <th>three_g</th>\n",
              "      <th>touch_screen</th>\n",
              "      <th>wifi</th>\n",
              "      <th>price_range</th>\n",
              "    </tr>\n",
              "  </thead>\n",
              "  <tbody>\n",
              "    <tr>\n",
              "      <th>0</th>\n",
              "      <td>842</td>\n",
              "      <td>0</td>\n",
              "      <td>2.2</td>\n",
              "      <td>0</td>\n",
              "      <td>1</td>\n",
              "      <td>0</td>\n",
              "      <td>7</td>\n",
              "      <td>0.6</td>\n",
              "      <td>188</td>\n",
              "      <td>2</td>\n",
              "      <td>...</td>\n",
              "      <td>20</td>\n",
              "      <td>756</td>\n",
              "      <td>2549</td>\n",
              "      <td>9</td>\n",
              "      <td>7</td>\n",
              "      <td>19</td>\n",
              "      <td>0</td>\n",
              "      <td>0</td>\n",
              "      <td>1</td>\n",
              "      <td>1</td>\n",
              "    </tr>\n",
              "    <tr>\n",
              "      <th>1</th>\n",
              "      <td>1021</td>\n",
              "      <td>1</td>\n",
              "      <td>0.5</td>\n",
              "      <td>1</td>\n",
              "      <td>0</td>\n",
              "      <td>1</td>\n",
              "      <td>53</td>\n",
              "      <td>0.7</td>\n",
              "      <td>136</td>\n",
              "      <td>3</td>\n",
              "      <td>...</td>\n",
              "      <td>905</td>\n",
              "      <td>1988</td>\n",
              "      <td>2631</td>\n",
              "      <td>17</td>\n",
              "      <td>3</td>\n",
              "      <td>7</td>\n",
              "      <td>1</td>\n",
              "      <td>1</td>\n",
              "      <td>0</td>\n",
              "      <td>2</td>\n",
              "    </tr>\n",
              "    <tr>\n",
              "      <th>2</th>\n",
              "      <td>563</td>\n",
              "      <td>1</td>\n",
              "      <td>0.5</td>\n",
              "      <td>1</td>\n",
              "      <td>2</td>\n",
              "      <td>1</td>\n",
              "      <td>41</td>\n",
              "      <td>0.9</td>\n",
              "      <td>145</td>\n",
              "      <td>5</td>\n",
              "      <td>...</td>\n",
              "      <td>1263</td>\n",
              "      <td>1716</td>\n",
              "      <td>2603</td>\n",
              "      <td>11</td>\n",
              "      <td>2</td>\n",
              "      <td>9</td>\n",
              "      <td>1</td>\n",
              "      <td>1</td>\n",
              "      <td>0</td>\n",
              "      <td>2</td>\n",
              "    </tr>\n",
              "    <tr>\n",
              "      <th>3</th>\n",
              "      <td>615</td>\n",
              "      <td>1</td>\n",
              "      <td>2.5</td>\n",
              "      <td>0</td>\n",
              "      <td>0</td>\n",
              "      <td>0</td>\n",
              "      <td>10</td>\n",
              "      <td>0.8</td>\n",
              "      <td>131</td>\n",
              "      <td>6</td>\n",
              "      <td>...</td>\n",
              "      <td>1216</td>\n",
              "      <td>1786</td>\n",
              "      <td>2769</td>\n",
              "      <td>16</td>\n",
              "      <td>8</td>\n",
              "      <td>11</td>\n",
              "      <td>1</td>\n",
              "      <td>0</td>\n",
              "      <td>0</td>\n",
              "      <td>2</td>\n",
              "    </tr>\n",
              "    <tr>\n",
              "      <th>4</th>\n",
              "      <td>1821</td>\n",
              "      <td>1</td>\n",
              "      <td>1.2</td>\n",
              "      <td>0</td>\n",
              "      <td>13</td>\n",
              "      <td>1</td>\n",
              "      <td>44</td>\n",
              "      <td>0.6</td>\n",
              "      <td>141</td>\n",
              "      <td>2</td>\n",
              "      <td>...</td>\n",
              "      <td>1208</td>\n",
              "      <td>1212</td>\n",
              "      <td>1411</td>\n",
              "      <td>8</td>\n",
              "      <td>2</td>\n",
              "      <td>15</td>\n",
              "      <td>1</td>\n",
              "      <td>1</td>\n",
              "      <td>0</td>\n",
              "      <td>1</td>\n",
              "    </tr>\n",
              "  </tbody>\n",
              "</table>\n",
              "<p>5 rows × 21 columns</p>\n",
              "</div>\n",
              "      <button class=\"colab-df-convert\" onclick=\"convertToInteractive('df-cd38a2e4-5383-475d-b7af-ce5af393c48e')\"\n",
              "              title=\"Convert this dataframe to an interactive table.\"\n",
              "              style=\"display:none;\">\n",
              "        \n",
              "  <svg xmlns=\"http://www.w3.org/2000/svg\" height=\"24px\"viewBox=\"0 0 24 24\"\n",
              "       width=\"24px\">\n",
              "    <path d=\"M0 0h24v24H0V0z\" fill=\"none\"/>\n",
              "    <path d=\"M18.56 5.44l.94 2.06.94-2.06 2.06-.94-2.06-.94-.94-2.06-.94 2.06-2.06.94zm-11 1L8.5 8.5l.94-2.06 2.06-.94-2.06-.94L8.5 2.5l-.94 2.06-2.06.94zm10 10l.94 2.06.94-2.06 2.06-.94-2.06-.94-.94-2.06-.94 2.06-2.06.94z\"/><path d=\"M17.41 7.96l-1.37-1.37c-.4-.4-.92-.59-1.43-.59-.52 0-1.04.2-1.43.59L10.3 9.45l-7.72 7.72c-.78.78-.78 2.05 0 2.83L4 21.41c.39.39.9.59 1.41.59.51 0 1.02-.2 1.41-.59l7.78-7.78 2.81-2.81c.8-.78.8-2.07 0-2.86zM5.41 20L4 18.59l7.72-7.72 1.47 1.35L5.41 20z\"/>\n",
              "  </svg>\n",
              "      </button>\n",
              "      \n",
              "  <style>\n",
              "    .colab-df-container {\n",
              "      display:flex;\n",
              "      flex-wrap:wrap;\n",
              "      gap: 12px;\n",
              "    }\n",
              "\n",
              "    .colab-df-convert {\n",
              "      background-color: #E8F0FE;\n",
              "      border: none;\n",
              "      border-radius: 50%;\n",
              "      cursor: pointer;\n",
              "      display: none;\n",
              "      fill: #1967D2;\n",
              "      height: 32px;\n",
              "      padding: 0 0 0 0;\n",
              "      width: 32px;\n",
              "    }\n",
              "\n",
              "    .colab-df-convert:hover {\n",
              "      background-color: #E2EBFA;\n",
              "      box-shadow: 0px 1px 2px rgba(60, 64, 67, 0.3), 0px 1px 3px 1px rgba(60, 64, 67, 0.15);\n",
              "      fill: #174EA6;\n",
              "    }\n",
              "\n",
              "    [theme=dark] .colab-df-convert {\n",
              "      background-color: #3B4455;\n",
              "      fill: #D2E3FC;\n",
              "    }\n",
              "\n",
              "    [theme=dark] .colab-df-convert:hover {\n",
              "      background-color: #434B5C;\n",
              "      box-shadow: 0px 1px 3px 1px rgba(0, 0, 0, 0.15);\n",
              "      filter: drop-shadow(0px 1px 2px rgba(0, 0, 0, 0.3));\n",
              "      fill: #FFFFFF;\n",
              "    }\n",
              "  </style>\n",
              "\n",
              "      <script>\n",
              "        const buttonEl =\n",
              "          document.querySelector('#df-cd38a2e4-5383-475d-b7af-ce5af393c48e button.colab-df-convert');\n",
              "        buttonEl.style.display =\n",
              "          google.colab.kernel.accessAllowed ? 'block' : 'none';\n",
              "\n",
              "        async function convertToInteractive(key) {\n",
              "          const element = document.querySelector('#df-cd38a2e4-5383-475d-b7af-ce5af393c48e');\n",
              "          const dataTable =\n",
              "            await google.colab.kernel.invokeFunction('convertToInteractive',\n",
              "                                                     [key], {});\n",
              "          if (!dataTable) return;\n",
              "\n",
              "          const docLinkHtml = 'Like what you see? Visit the ' +\n",
              "            '<a target=\"_blank\" href=https://colab.research.google.com/notebooks/data_table.ipynb>data table notebook</a>'\n",
              "            + ' to learn more about interactive tables.';\n",
              "          element.innerHTML = '';\n",
              "          dataTable['output_type'] = 'display_data';\n",
              "          await google.colab.output.renderOutput(dataTable, element);\n",
              "          const docLink = document.createElement('div');\n",
              "          docLink.innerHTML = docLinkHtml;\n",
              "          element.appendChild(docLink);\n",
              "        }\n",
              "      </script>\n",
              "    </div>\n",
              "  </div>\n",
              "  "
            ]
          },
          "metadata": {},
          "execution_count": 4
        }
      ]
    },
    {
      "metadata": {
        "trusted": true,
        "colab": {
          "base_uri": "https://localhost:8080/"
        },
        "id": "M4CAY3jxV9jA",
        "outputId": "3ba1c3aa-3594-49ad-c1f7-a22327ba0ada"
      },
      "cell_type": "code",
      "source": [
        "df.dtypes"
      ],
      "execution_count": null,
      "outputs": [
        {
          "output_type": "execute_result",
          "data": {
            "text/plain": [
              "battery_power      int64\n",
              "blue               int64\n",
              "clock_speed      float64\n",
              "dual_sim           int64\n",
              "fc                 int64\n",
              "four_g             int64\n",
              "int_memory         int64\n",
              "m_dep            float64\n",
              "mobile_wt          int64\n",
              "n_cores            int64\n",
              "pc                 int64\n",
              "px_height          int64\n",
              "px_width           int64\n",
              "ram                int64\n",
              "sc_h               int64\n",
              "sc_w               int64\n",
              "talk_time          int64\n",
              "three_g            int64\n",
              "touch_screen       int64\n",
              "wifi               int64\n",
              "price_range        int64\n",
              "dtype: object"
            ]
          },
          "metadata": {},
          "execution_count": 5
        }
      ]
    },
    {
      "metadata": {
        "trusted": true,
        "id": "DbvlfFYhV9jA"
      },
      "cell_type": "code",
      "source": [
        "X = df.drop('price_range', axis='columns')\n",
        "y = df['price_range']"
      ],
      "execution_count": null,
      "outputs": []
    },
    {
      "cell_type": "code",
      "source": [
        "print(np.unique(y))"
      ],
      "metadata": {
        "colab": {
          "base_uri": "https://localhost:8080/"
        },
        "id": "TyUY4TF1ZkNM",
        "outputId": "f45b887a-a204-4564-f617-eacee9a5f05c"
      },
      "execution_count": null,
      "outputs": [
        {
          "output_type": "stream",
          "name": "stdout",
          "text": [
            "[0 1 2 3]\n"
          ]
        }
      ]
    },
    {
      "cell_type": "code",
      "source": [
        "X.shape"
      ],
      "metadata": {
        "colab": {
          "base_uri": "https://localhost:8080/"
        },
        "id": "qeLrTixGWNPN",
        "outputId": "aa954383-1c01-461d-9d91-d0c966150c9d"
      },
      "execution_count": null,
      "outputs": [
        {
          "output_type": "execute_result",
          "data": {
            "text/plain": [
              "(2000, 20)"
            ]
          },
          "metadata": {},
          "execution_count": 8
        }
      ]
    },
    {
      "metadata": {
        "trusted": true,
        "colab": {
          "base_uri": "https://localhost:8080/",
          "height": 467
        },
        "id": "TzWAzfm6V9jC",
        "outputId": "606f5a38-9fa1-4b0b-9413-cb6c5d93d22f"
      },
      "cell_type": "code",
      "source": [
        "X"
      ],
      "execution_count": null,
      "outputs": [
        {
          "output_type": "execute_result",
          "data": {
            "text/plain": [
              "      battery_power  blue  clock_speed  dual_sim  fc  four_g  int_memory  \\\n",
              "0               842     0          2.2         0   1       0           7   \n",
              "1              1021     1          0.5         1   0       1          53   \n",
              "2               563     1          0.5         1   2       1          41   \n",
              "3               615     1          2.5         0   0       0          10   \n",
              "4              1821     1          1.2         0  13       1          44   \n",
              "...             ...   ...          ...       ...  ..     ...         ...   \n",
              "1995            794     1          0.5         1   0       1           2   \n",
              "1996           1965     1          2.6         1   0       0          39   \n",
              "1997           1911     0          0.9         1   1       1          36   \n",
              "1998           1512     0          0.9         0   4       1          46   \n",
              "1999            510     1          2.0         1   5       1          45   \n",
              "\n",
              "      m_dep  mobile_wt  n_cores  pc  px_height  px_width   ram  sc_h  sc_w  \\\n",
              "0       0.6        188        2   2         20       756  2549     9     7   \n",
              "1       0.7        136        3   6        905      1988  2631    17     3   \n",
              "2       0.9        145        5   6       1263      1716  2603    11     2   \n",
              "3       0.8        131        6   9       1216      1786  2769    16     8   \n",
              "4       0.6        141        2  14       1208      1212  1411     8     2   \n",
              "...     ...        ...      ...  ..        ...       ...   ...   ...   ...   \n",
              "1995    0.8        106        6  14       1222      1890   668    13     4   \n",
              "1996    0.2        187        4   3        915      1965  2032    11    10   \n",
              "1997    0.7        108        8   3        868      1632  3057     9     1   \n",
              "1998    0.1        145        5   5        336       670   869    18    10   \n",
              "1999    0.9        168        6  16        483       754  3919    19     4   \n",
              "\n",
              "      talk_time  three_g  touch_screen  wifi  \n",
              "0            19        0             0     1  \n",
              "1             7        1             1     0  \n",
              "2             9        1             1     0  \n",
              "3            11        1             0     0  \n",
              "4            15        1             1     0  \n",
              "...         ...      ...           ...   ...  \n",
              "1995         19        1             1     0  \n",
              "1996         16        1             1     1  \n",
              "1997          5        1             1     0  \n",
              "1998         19        1             1     1  \n",
              "1999          2        1             1     1  \n",
              "\n",
              "[2000 rows x 20 columns]"
            ],
            "text/html": [
              "\n",
              "  <div id=\"df-813a5163-8017-4430-bd8c-6b8cdfefeeb3\">\n",
              "    <div class=\"colab-df-container\">\n",
              "      <div>\n",
              "<style scoped>\n",
              "    .dataframe tbody tr th:only-of-type {\n",
              "        vertical-align: middle;\n",
              "    }\n",
              "\n",
              "    .dataframe tbody tr th {\n",
              "        vertical-align: top;\n",
              "    }\n",
              "\n",
              "    .dataframe thead th {\n",
              "        text-align: right;\n",
              "    }\n",
              "</style>\n",
              "<table border=\"1\" class=\"dataframe\">\n",
              "  <thead>\n",
              "    <tr style=\"text-align: right;\">\n",
              "      <th></th>\n",
              "      <th>battery_power</th>\n",
              "      <th>blue</th>\n",
              "      <th>clock_speed</th>\n",
              "      <th>dual_sim</th>\n",
              "      <th>fc</th>\n",
              "      <th>four_g</th>\n",
              "      <th>int_memory</th>\n",
              "      <th>m_dep</th>\n",
              "      <th>mobile_wt</th>\n",
              "      <th>n_cores</th>\n",
              "      <th>pc</th>\n",
              "      <th>px_height</th>\n",
              "      <th>px_width</th>\n",
              "      <th>ram</th>\n",
              "      <th>sc_h</th>\n",
              "      <th>sc_w</th>\n",
              "      <th>talk_time</th>\n",
              "      <th>three_g</th>\n",
              "      <th>touch_screen</th>\n",
              "      <th>wifi</th>\n",
              "    </tr>\n",
              "  </thead>\n",
              "  <tbody>\n",
              "    <tr>\n",
              "      <th>0</th>\n",
              "      <td>842</td>\n",
              "      <td>0</td>\n",
              "      <td>2.2</td>\n",
              "      <td>0</td>\n",
              "      <td>1</td>\n",
              "      <td>0</td>\n",
              "      <td>7</td>\n",
              "      <td>0.6</td>\n",
              "      <td>188</td>\n",
              "      <td>2</td>\n",
              "      <td>2</td>\n",
              "      <td>20</td>\n",
              "      <td>756</td>\n",
              "      <td>2549</td>\n",
              "      <td>9</td>\n",
              "      <td>7</td>\n",
              "      <td>19</td>\n",
              "      <td>0</td>\n",
              "      <td>0</td>\n",
              "      <td>1</td>\n",
              "    </tr>\n",
              "    <tr>\n",
              "      <th>1</th>\n",
              "      <td>1021</td>\n",
              "      <td>1</td>\n",
              "      <td>0.5</td>\n",
              "      <td>1</td>\n",
              "      <td>0</td>\n",
              "      <td>1</td>\n",
              "      <td>53</td>\n",
              "      <td>0.7</td>\n",
              "      <td>136</td>\n",
              "      <td>3</td>\n",
              "      <td>6</td>\n",
              "      <td>905</td>\n",
              "      <td>1988</td>\n",
              "      <td>2631</td>\n",
              "      <td>17</td>\n",
              "      <td>3</td>\n",
              "      <td>7</td>\n",
              "      <td>1</td>\n",
              "      <td>1</td>\n",
              "      <td>0</td>\n",
              "    </tr>\n",
              "    <tr>\n",
              "      <th>2</th>\n",
              "      <td>563</td>\n",
              "      <td>1</td>\n",
              "      <td>0.5</td>\n",
              "      <td>1</td>\n",
              "      <td>2</td>\n",
              "      <td>1</td>\n",
              "      <td>41</td>\n",
              "      <td>0.9</td>\n",
              "      <td>145</td>\n",
              "      <td>5</td>\n",
              "      <td>6</td>\n",
              "      <td>1263</td>\n",
              "      <td>1716</td>\n",
              "      <td>2603</td>\n",
              "      <td>11</td>\n",
              "      <td>2</td>\n",
              "      <td>9</td>\n",
              "      <td>1</td>\n",
              "      <td>1</td>\n",
              "      <td>0</td>\n",
              "    </tr>\n",
              "    <tr>\n",
              "      <th>3</th>\n",
              "      <td>615</td>\n",
              "      <td>1</td>\n",
              "      <td>2.5</td>\n",
              "      <td>0</td>\n",
              "      <td>0</td>\n",
              "      <td>0</td>\n",
              "      <td>10</td>\n",
              "      <td>0.8</td>\n",
              "      <td>131</td>\n",
              "      <td>6</td>\n",
              "      <td>9</td>\n",
              "      <td>1216</td>\n",
              "      <td>1786</td>\n",
              "      <td>2769</td>\n",
              "      <td>16</td>\n",
              "      <td>8</td>\n",
              "      <td>11</td>\n",
              "      <td>1</td>\n",
              "      <td>0</td>\n",
              "      <td>0</td>\n",
              "    </tr>\n",
              "    <tr>\n",
              "      <th>4</th>\n",
              "      <td>1821</td>\n",
              "      <td>1</td>\n",
              "      <td>1.2</td>\n",
              "      <td>0</td>\n",
              "      <td>13</td>\n",
              "      <td>1</td>\n",
              "      <td>44</td>\n",
              "      <td>0.6</td>\n",
              "      <td>141</td>\n",
              "      <td>2</td>\n",
              "      <td>14</td>\n",
              "      <td>1208</td>\n",
              "      <td>1212</td>\n",
              "      <td>1411</td>\n",
              "      <td>8</td>\n",
              "      <td>2</td>\n",
              "      <td>15</td>\n",
              "      <td>1</td>\n",
              "      <td>1</td>\n",
              "      <td>0</td>\n",
              "    </tr>\n",
              "    <tr>\n",
              "      <th>...</th>\n",
              "      <td>...</td>\n",
              "      <td>...</td>\n",
              "      <td>...</td>\n",
              "      <td>...</td>\n",
              "      <td>...</td>\n",
              "      <td>...</td>\n",
              "      <td>...</td>\n",
              "      <td>...</td>\n",
              "      <td>...</td>\n",
              "      <td>...</td>\n",
              "      <td>...</td>\n",
              "      <td>...</td>\n",
              "      <td>...</td>\n",
              "      <td>...</td>\n",
              "      <td>...</td>\n",
              "      <td>...</td>\n",
              "      <td>...</td>\n",
              "      <td>...</td>\n",
              "      <td>...</td>\n",
              "      <td>...</td>\n",
              "    </tr>\n",
              "    <tr>\n",
              "      <th>1995</th>\n",
              "      <td>794</td>\n",
              "      <td>1</td>\n",
              "      <td>0.5</td>\n",
              "      <td>1</td>\n",
              "      <td>0</td>\n",
              "      <td>1</td>\n",
              "      <td>2</td>\n",
              "      <td>0.8</td>\n",
              "      <td>106</td>\n",
              "      <td>6</td>\n",
              "      <td>14</td>\n",
              "      <td>1222</td>\n",
              "      <td>1890</td>\n",
              "      <td>668</td>\n",
              "      <td>13</td>\n",
              "      <td>4</td>\n",
              "      <td>19</td>\n",
              "      <td>1</td>\n",
              "      <td>1</td>\n",
              "      <td>0</td>\n",
              "    </tr>\n",
              "    <tr>\n",
              "      <th>1996</th>\n",
              "      <td>1965</td>\n",
              "      <td>1</td>\n",
              "      <td>2.6</td>\n",
              "      <td>1</td>\n",
              "      <td>0</td>\n",
              "      <td>0</td>\n",
              "      <td>39</td>\n",
              "      <td>0.2</td>\n",
              "      <td>187</td>\n",
              "      <td>4</td>\n",
              "      <td>3</td>\n",
              "      <td>915</td>\n",
              "      <td>1965</td>\n",
              "      <td>2032</td>\n",
              "      <td>11</td>\n",
              "      <td>10</td>\n",
              "      <td>16</td>\n",
              "      <td>1</td>\n",
              "      <td>1</td>\n",
              "      <td>1</td>\n",
              "    </tr>\n",
              "    <tr>\n",
              "      <th>1997</th>\n",
              "      <td>1911</td>\n",
              "      <td>0</td>\n",
              "      <td>0.9</td>\n",
              "      <td>1</td>\n",
              "      <td>1</td>\n",
              "      <td>1</td>\n",
              "      <td>36</td>\n",
              "      <td>0.7</td>\n",
              "      <td>108</td>\n",
              "      <td>8</td>\n",
              "      <td>3</td>\n",
              "      <td>868</td>\n",
              "      <td>1632</td>\n",
              "      <td>3057</td>\n",
              "      <td>9</td>\n",
              "      <td>1</td>\n",
              "      <td>5</td>\n",
              "      <td>1</td>\n",
              "      <td>1</td>\n",
              "      <td>0</td>\n",
              "    </tr>\n",
              "    <tr>\n",
              "      <th>1998</th>\n",
              "      <td>1512</td>\n",
              "      <td>0</td>\n",
              "      <td>0.9</td>\n",
              "      <td>0</td>\n",
              "      <td>4</td>\n",
              "      <td>1</td>\n",
              "      <td>46</td>\n",
              "      <td>0.1</td>\n",
              "      <td>145</td>\n",
              "      <td>5</td>\n",
              "      <td>5</td>\n",
              "      <td>336</td>\n",
              "      <td>670</td>\n",
              "      <td>869</td>\n",
              "      <td>18</td>\n",
              "      <td>10</td>\n",
              "      <td>19</td>\n",
              "      <td>1</td>\n",
              "      <td>1</td>\n",
              "      <td>1</td>\n",
              "    </tr>\n",
              "    <tr>\n",
              "      <th>1999</th>\n",
              "      <td>510</td>\n",
              "      <td>1</td>\n",
              "      <td>2.0</td>\n",
              "      <td>1</td>\n",
              "      <td>5</td>\n",
              "      <td>1</td>\n",
              "      <td>45</td>\n",
              "      <td>0.9</td>\n",
              "      <td>168</td>\n",
              "      <td>6</td>\n",
              "      <td>16</td>\n",
              "      <td>483</td>\n",
              "      <td>754</td>\n",
              "      <td>3919</td>\n",
              "      <td>19</td>\n",
              "      <td>4</td>\n",
              "      <td>2</td>\n",
              "      <td>1</td>\n",
              "      <td>1</td>\n",
              "      <td>1</td>\n",
              "    </tr>\n",
              "  </tbody>\n",
              "</table>\n",
              "<p>2000 rows × 20 columns</p>\n",
              "</div>\n",
              "      <button class=\"colab-df-convert\" onclick=\"convertToInteractive('df-813a5163-8017-4430-bd8c-6b8cdfefeeb3')\"\n",
              "              title=\"Convert this dataframe to an interactive table.\"\n",
              "              style=\"display:none;\">\n",
              "        \n",
              "  <svg xmlns=\"http://www.w3.org/2000/svg\" height=\"24px\"viewBox=\"0 0 24 24\"\n",
              "       width=\"24px\">\n",
              "    <path d=\"M0 0h24v24H0V0z\" fill=\"none\"/>\n",
              "    <path d=\"M18.56 5.44l.94 2.06.94-2.06 2.06-.94-2.06-.94-.94-2.06-.94 2.06-2.06.94zm-11 1L8.5 8.5l.94-2.06 2.06-.94-2.06-.94L8.5 2.5l-.94 2.06-2.06.94zm10 10l.94 2.06.94-2.06 2.06-.94-2.06-.94-.94-2.06-.94 2.06-2.06.94z\"/><path d=\"M17.41 7.96l-1.37-1.37c-.4-.4-.92-.59-1.43-.59-.52 0-1.04.2-1.43.59L10.3 9.45l-7.72 7.72c-.78.78-.78 2.05 0 2.83L4 21.41c.39.39.9.59 1.41.59.51 0 1.02-.2 1.41-.59l7.78-7.78 2.81-2.81c.8-.78.8-2.07 0-2.86zM5.41 20L4 18.59l7.72-7.72 1.47 1.35L5.41 20z\"/>\n",
              "  </svg>\n",
              "      </button>\n",
              "      \n",
              "  <style>\n",
              "    .colab-df-container {\n",
              "      display:flex;\n",
              "      flex-wrap:wrap;\n",
              "      gap: 12px;\n",
              "    }\n",
              "\n",
              "    .colab-df-convert {\n",
              "      background-color: #E8F0FE;\n",
              "      border: none;\n",
              "      border-radius: 50%;\n",
              "      cursor: pointer;\n",
              "      display: none;\n",
              "      fill: #1967D2;\n",
              "      height: 32px;\n",
              "      padding: 0 0 0 0;\n",
              "      width: 32px;\n",
              "    }\n",
              "\n",
              "    .colab-df-convert:hover {\n",
              "      background-color: #E2EBFA;\n",
              "      box-shadow: 0px 1px 2px rgba(60, 64, 67, 0.3), 0px 1px 3px 1px rgba(60, 64, 67, 0.15);\n",
              "      fill: #174EA6;\n",
              "    }\n",
              "\n",
              "    [theme=dark] .colab-df-convert {\n",
              "      background-color: #3B4455;\n",
              "      fill: #D2E3FC;\n",
              "    }\n",
              "\n",
              "    [theme=dark] .colab-df-convert:hover {\n",
              "      background-color: #434B5C;\n",
              "      box-shadow: 0px 1px 3px 1px rgba(0, 0, 0, 0.15);\n",
              "      filter: drop-shadow(0px 1px 2px rgba(0, 0, 0, 0.3));\n",
              "      fill: #FFFFFF;\n",
              "    }\n",
              "  </style>\n",
              "\n",
              "      <script>\n",
              "        const buttonEl =\n",
              "          document.querySelector('#df-813a5163-8017-4430-bd8c-6b8cdfefeeb3 button.colab-df-convert');\n",
              "        buttonEl.style.display =\n",
              "          google.colab.kernel.accessAllowed ? 'block' : 'none';\n",
              "\n",
              "        async function convertToInteractive(key) {\n",
              "          const element = document.querySelector('#df-813a5163-8017-4430-bd8c-6b8cdfefeeb3');\n",
              "          const dataTable =\n",
              "            await google.colab.kernel.invokeFunction('convertToInteractive',\n",
              "                                                     [key], {});\n",
              "          if (!dataTable) return;\n",
              "\n",
              "          const docLinkHtml = 'Like what you see? Visit the ' +\n",
              "            '<a target=\"_blank\" href=https://colab.research.google.com/notebooks/data_table.ipynb>data table notebook</a>'\n",
              "            + ' to learn more about interactive tables.';\n",
              "          element.innerHTML = '';\n",
              "          dataTable['output_type'] = 'display_data';\n",
              "          await google.colab.output.renderOutput(dataTable, element);\n",
              "          const docLink = document.createElement('div');\n",
              "          docLink.innerHTML = docLinkHtml;\n",
              "          element.appendChild(docLink);\n",
              "        }\n",
              "      </script>\n",
              "    </div>\n",
              "  </div>\n",
              "  "
            ]
          },
          "metadata": {},
          "execution_count": 9
        }
      ]
    },
    {
      "cell_type": "code",
      "source": [
        "X.values"
      ],
      "metadata": {
        "colab": {
          "base_uri": "https://localhost:8080/"
        },
        "id": "3Zi3cjH2dFNX",
        "outputId": "ec361f83-6b6a-4e98-d60e-a3f16e41ced8"
      },
      "execution_count": null,
      "outputs": [
        {
          "output_type": "execute_result",
          "data": {
            "text/plain": [
              "array([[8.420e+02, 0.000e+00, 2.200e+00, ..., 0.000e+00, 0.000e+00,\n",
              "        1.000e+00],\n",
              "       [1.021e+03, 1.000e+00, 5.000e-01, ..., 1.000e+00, 1.000e+00,\n",
              "        0.000e+00],\n",
              "       [5.630e+02, 1.000e+00, 5.000e-01, ..., 1.000e+00, 1.000e+00,\n",
              "        0.000e+00],\n",
              "       ...,\n",
              "       [1.911e+03, 0.000e+00, 9.000e-01, ..., 1.000e+00, 1.000e+00,\n",
              "        0.000e+00],\n",
              "       [1.512e+03, 0.000e+00, 9.000e-01, ..., 1.000e+00, 1.000e+00,\n",
              "        1.000e+00],\n",
              "       [5.100e+02, 1.000e+00, 2.000e+00, ..., 1.000e+00, 1.000e+00,\n",
              "        1.000e+00]])"
            ]
          },
          "metadata": {},
          "execution_count": 10
        }
      ]
    },
    {
      "cell_type": "code",
      "source": [
        "y.values"
      ],
      "metadata": {
        "colab": {
          "base_uri": "https://localhost:8080/"
        },
        "id": "n57P5DSkdy4G",
        "outputId": "d889d78e-f777-487c-ab89-6b14048c1603"
      },
      "execution_count": null,
      "outputs": [
        {
          "output_type": "execute_result",
          "data": {
            "text/plain": [
              "array([1, 2, 2, ..., 3, 0, 3])"
            ]
          },
          "metadata": {},
          "execution_count": 11
        }
      ]
    },
    {
      "cell_type": "code",
      "source": [
        "X = X.values"
      ],
      "metadata": {
        "id": "0l7CVLT4bqXH"
      },
      "execution_count": null,
      "outputs": []
    },
    {
      "cell_type": "code",
      "source": [
        "y = y.values"
      ],
      "metadata": {
        "id": "zwDsM9ckb1ae"
      },
      "execution_count": null,
      "outputs": []
    },
    {
      "metadata": {
        "trusted": true,
        "id": "ibPtQ9p1V9jD"
      },
      "cell_type": "code",
      "source": [
        "scale = StandardScaler()\n",
        "X = scale.fit_transform(X)"
      ],
      "execution_count": null,
      "outputs": []
    },
    {
      "metadata": {
        "trusted": true,
        "id": "YJW_vUUjV9jD"
      },
      "cell_type": "code",
      "source": [
        "y = y.reshape(-1,1)"
      ],
      "execution_count": null,
      "outputs": []
    },
    {
      "cell_type": "code",
      "source": [
        "y.shape"
      ],
      "metadata": {
        "colab": {
          "base_uri": "https://localhost:8080/"
        },
        "id": "5Xp-T2ykW243",
        "outputId": "f7ec8792-ae79-4301-de28-35c90ff3fefd"
      },
      "execution_count": null,
      "outputs": [
        {
          "output_type": "execute_result",
          "data": {
            "text/plain": [
              "(2000, 1)"
            ]
          },
          "metadata": {},
          "execution_count": 16
        }
      ]
    },
    {
      "cell_type": "code",
      "source": [
        "y[1]"
      ],
      "metadata": {
        "id": "ie-DVk75fklP",
        "colab": {
          "base_uri": "https://localhost:8080/"
        },
        "outputId": "a6cb5db3-460e-4470-cdfa-7ce4dead84c9"
      },
      "execution_count": null,
      "outputs": [
        {
          "output_type": "execute_result",
          "data": {
            "text/plain": [
              "array([2])"
            ]
          },
          "metadata": {},
          "execution_count": 17
        }
      ]
    },
    {
      "metadata": {
        "trusted": true,
        "id": "lSJgjBNaV9jD"
      },
      "cell_type": "code",
      "source": [
        "ohot = OneHotEncoder()\n",
        "y = ohot.fit_transform(y)"
      ],
      "execution_count": null,
      "outputs": []
    },
    {
      "metadata": {
        "trusted": true,
        "id": "2JJdyd03V9jD"
      },
      "cell_type": "code",
      "source": [
        "y = y.toarray()"
      ],
      "execution_count": null,
      "outputs": []
    },
    {
      "cell_type": "code",
      "source": [
        "print(y[1])"
      ],
      "metadata": {
        "colab": {
          "base_uri": "https://localhost:8080/"
        },
        "id": "tRZTXseyYB7T",
        "outputId": "edc516dd-0a56-4c14-89fa-2b3db3f99eaa"
      },
      "execution_count": null,
      "outputs": [
        {
          "output_type": "stream",
          "name": "stdout",
          "text": [
            "[0. 0. 1. 0.]\n"
          ]
        }
      ]
    },
    {
      "metadata": {
        "trusted": true,
        "id": "oArLSG7qV9jE"
      },
      "cell_type": "code",
      "source": [
        "X_train, X_valid, y_train, y_valid = train_test_split(X, y, test_size=0.2, random_state=50)"
      ],
      "execution_count": null,
      "outputs": []
    },
    {
      "metadata": {
        "trusted": true,
        "colab": {
          "base_uri": "https://localhost:8080/"
        },
        "id": "q1m2aNq4V9jE",
        "outputId": "ed2292dc-f5cd-499b-bbec-613ef4ae9dc9"
      },
      "cell_type": "code",
      "source": [
        "model = Sequential()\n",
        "model.add(Dense(8,activation='relu',input_dim = 20))\n",
        "model.add(Dense(6,activation='relu'))\n",
        "model.add(Dense(4,activation='softmax'))\n",
        "model.summary()"
      ],
      "execution_count": null,
      "outputs": [
        {
          "output_type": "stream",
          "name": "stdout",
          "text": [
            "Model: \"sequential\"\n",
            "_________________________________________________________________\n",
            " Layer (type)                Output Shape              Param #   \n",
            "=================================================================\n",
            " dense (Dense)               (None, 8)                 168       \n",
            "                                                                 \n",
            " dense_1 (Dense)             (None, 6)                 54        \n",
            "                                                                 \n",
            " dense_2 (Dense)             (None, 4)                 28        \n",
            "                                                                 \n",
            "=================================================================\n",
            "Total params: 250\n",
            "Trainable params: 250\n",
            "Non-trainable params: 0\n",
            "_________________________________________________________________\n"
          ]
        }
      ]
    },
    {
      "metadata": {
        "trusted": true,
        "id": "-CUOj_QHV9jE"
      },
      "cell_type": "code",
      "source": [
        "model.compile(loss='categorical_crossentropy',optimizer='adam',metrics=['accuracy'])"
      ],
      "execution_count": null,
      "outputs": []
    },
    {
      "metadata": {
        "trusted": true,
        "colab": {
          "base_uri": "https://localhost:8080/"
        },
        "id": "ARownBjKV9jF",
        "outputId": "2f57caed-9a7b-442d-ee63-7d3d7fd8f602"
      },
      "cell_type": "code",
      "source": [
        "history = model.fit(X_train, y_train,epochs=130, validation_data=(X_valid,y_valid), batch_size=64)"
      ],
      "execution_count": null,
      "outputs": [
        {
          "output_type": "stream",
          "name": "stdout",
          "text": [
            "Epoch 1/130\n",
            "25/25 [==============================] - 5s 13ms/step - loss: 1.4851 - accuracy: 0.2706 - val_loss: 1.4434 - val_accuracy: 0.2975\n",
            "Epoch 2/130\n",
            "25/25 [==============================] - 0s 5ms/step - loss: 1.4323 - accuracy: 0.2831 - val_loss: 1.4103 - val_accuracy: 0.2825\n",
            "Epoch 3/130\n",
            "25/25 [==============================] - 0s 5ms/step - loss: 1.4037 - accuracy: 0.2900 - val_loss: 1.3939 - val_accuracy: 0.2800\n",
            "Epoch 4/130\n",
            "25/25 [==============================] - 0s 5ms/step - loss: 1.3872 - accuracy: 0.3050 - val_loss: 1.3824 - val_accuracy: 0.2950\n",
            "Epoch 5/130\n",
            "25/25 [==============================] - 0s 5ms/step - loss: 1.3748 - accuracy: 0.3094 - val_loss: 1.3734 - val_accuracy: 0.3050\n",
            "Epoch 6/130\n",
            "25/25 [==============================] - 0s 4ms/step - loss: 1.3635 - accuracy: 0.3269 - val_loss: 1.3636 - val_accuracy: 0.3150\n",
            "Epoch 7/130\n",
            "25/25 [==============================] - 0s 7ms/step - loss: 1.3517 - accuracy: 0.3344 - val_loss: 1.3522 - val_accuracy: 0.3150\n",
            "Epoch 8/130\n",
            "25/25 [==============================] - 0s 8ms/step - loss: 1.3367 - accuracy: 0.3469 - val_loss: 1.3389 - val_accuracy: 0.3375\n",
            "Epoch 9/130\n",
            "25/25 [==============================] - 0s 7ms/step - loss: 1.3190 - accuracy: 0.3681 - val_loss: 1.3215 - val_accuracy: 0.3475\n",
            "Epoch 10/130\n",
            "25/25 [==============================] - 0s 7ms/step - loss: 1.2968 - accuracy: 0.4100 - val_loss: 1.2984 - val_accuracy: 0.3950\n",
            "Epoch 11/130\n",
            "25/25 [==============================] - 0s 8ms/step - loss: 1.2682 - accuracy: 0.4556 - val_loss: 1.2690 - val_accuracy: 0.4350\n",
            "Epoch 12/130\n",
            "25/25 [==============================] - 0s 8ms/step - loss: 1.2320 - accuracy: 0.4900 - val_loss: 1.2317 - val_accuracy: 0.4725\n",
            "Epoch 13/130\n",
            "25/25 [==============================] - 0s 8ms/step - loss: 1.1870 - accuracy: 0.5169 - val_loss: 1.1892 - val_accuracy: 0.5000\n",
            "Epoch 14/130\n",
            "25/25 [==============================] - 0s 7ms/step - loss: 1.1372 - accuracy: 0.5387 - val_loss: 1.1382 - val_accuracy: 0.5150\n",
            "Epoch 15/130\n",
            "25/25 [==============================] - 0s 8ms/step - loss: 1.0819 - accuracy: 0.5587 - val_loss: 1.0858 - val_accuracy: 0.5375\n",
            "Epoch 16/130\n",
            "25/25 [==============================] - 0s 7ms/step - loss: 1.0251 - accuracy: 0.5825 - val_loss: 1.0316 - val_accuracy: 0.5550\n",
            "Epoch 17/130\n",
            "25/25 [==============================] - 0s 8ms/step - loss: 0.9683 - accuracy: 0.5906 - val_loss: 0.9736 - val_accuracy: 0.5700\n",
            "Epoch 18/130\n",
            "25/25 [==============================] - 0s 6ms/step - loss: 0.9075 - accuracy: 0.6037 - val_loss: 0.9096 - val_accuracy: 0.5875\n",
            "Epoch 19/130\n",
            "25/25 [==============================] - 0s 8ms/step - loss: 0.8422 - accuracy: 0.6338 - val_loss: 0.8447 - val_accuracy: 0.6150\n",
            "Epoch 20/130\n",
            "25/25 [==============================] - 0s 6ms/step - loss: 0.7804 - accuracy: 0.6694 - val_loss: 0.7853 - val_accuracy: 0.6500\n",
            "Epoch 21/130\n",
            "25/25 [==============================] - 0s 6ms/step - loss: 0.7267 - accuracy: 0.7019 - val_loss: 0.7330 - val_accuracy: 0.6925\n",
            "Epoch 22/130\n",
            "25/25 [==============================] - 0s 7ms/step - loss: 0.6809 - accuracy: 0.7425 - val_loss: 0.6886 - val_accuracy: 0.7225\n",
            "Epoch 23/130\n",
            "25/25 [==============================] - 0s 8ms/step - loss: 0.6401 - accuracy: 0.7656 - val_loss: 0.6502 - val_accuracy: 0.7600\n",
            "Epoch 24/130\n",
            "25/25 [==============================] - 0s 6ms/step - loss: 0.6038 - accuracy: 0.7887 - val_loss: 0.6165 - val_accuracy: 0.7800\n",
            "Epoch 25/130\n",
            "25/25 [==============================] - 0s 6ms/step - loss: 0.5715 - accuracy: 0.7969 - val_loss: 0.5849 - val_accuracy: 0.7900\n",
            "Epoch 26/130\n",
            "25/25 [==============================] - 0s 4ms/step - loss: 0.5418 - accuracy: 0.8188 - val_loss: 0.5583 - val_accuracy: 0.8075\n",
            "Epoch 27/130\n",
            "25/25 [==============================] - 0s 4ms/step - loss: 0.5150 - accuracy: 0.8269 - val_loss: 0.5323 - val_accuracy: 0.8250\n",
            "Epoch 28/130\n",
            "25/25 [==============================] - 0s 4ms/step - loss: 0.4906 - accuracy: 0.8413 - val_loss: 0.5093 - val_accuracy: 0.8350\n",
            "Epoch 29/130\n",
            "25/25 [==============================] - 0s 5ms/step - loss: 0.4671 - accuracy: 0.8519 - val_loss: 0.4870 - val_accuracy: 0.8375\n",
            "Epoch 30/130\n",
            "25/25 [==============================] - 0s 5ms/step - loss: 0.4463 - accuracy: 0.8581 - val_loss: 0.4682 - val_accuracy: 0.8425\n",
            "Epoch 31/130\n",
            "25/25 [==============================] - 0s 4ms/step - loss: 0.4271 - accuracy: 0.8612 - val_loss: 0.4505 - val_accuracy: 0.8500\n",
            "Epoch 32/130\n",
            "25/25 [==============================] - 0s 4ms/step - loss: 0.4086 - accuracy: 0.8725 - val_loss: 0.4327 - val_accuracy: 0.8550\n",
            "Epoch 33/130\n",
            "25/25 [==============================] - 0s 4ms/step - loss: 0.3913 - accuracy: 0.8775 - val_loss: 0.4167 - val_accuracy: 0.8550\n",
            "Epoch 34/130\n",
            "25/25 [==============================] - 0s 4ms/step - loss: 0.3755 - accuracy: 0.8838 - val_loss: 0.4028 - val_accuracy: 0.8525\n",
            "Epoch 35/130\n",
            "25/25 [==============================] - 0s 4ms/step - loss: 0.3608 - accuracy: 0.8869 - val_loss: 0.3880 - val_accuracy: 0.8650\n",
            "Epoch 36/130\n",
            "25/25 [==============================] - 0s 4ms/step - loss: 0.3466 - accuracy: 0.8956 - val_loss: 0.3753 - val_accuracy: 0.8700\n",
            "Epoch 37/130\n",
            "25/25 [==============================] - 0s 4ms/step - loss: 0.3335 - accuracy: 0.9031 - val_loss: 0.3631 - val_accuracy: 0.8800\n",
            "Epoch 38/130\n",
            "25/25 [==============================] - 0s 5ms/step - loss: 0.3209 - accuracy: 0.9069 - val_loss: 0.3532 - val_accuracy: 0.8725\n",
            "Epoch 39/130\n",
            "25/25 [==============================] - 0s 4ms/step - loss: 0.3099 - accuracy: 0.9075 - val_loss: 0.3430 - val_accuracy: 0.8800\n",
            "Epoch 40/130\n",
            "25/25 [==============================] - 0s 5ms/step - loss: 0.2989 - accuracy: 0.9112 - val_loss: 0.3327 - val_accuracy: 0.8825\n",
            "Epoch 41/130\n",
            "25/25 [==============================] - 0s 4ms/step - loss: 0.2881 - accuracy: 0.9125 - val_loss: 0.3247 - val_accuracy: 0.8775\n",
            "Epoch 42/130\n",
            "25/25 [==============================] - 0s 4ms/step - loss: 0.2792 - accuracy: 0.9187 - val_loss: 0.3171 - val_accuracy: 0.8800\n",
            "Epoch 43/130\n",
            "25/25 [==============================] - 0s 5ms/step - loss: 0.2701 - accuracy: 0.9162 - val_loss: 0.3069 - val_accuracy: 0.8875\n",
            "Epoch 44/130\n",
            "25/25 [==============================] - 0s 4ms/step - loss: 0.2608 - accuracy: 0.9231 - val_loss: 0.3015 - val_accuracy: 0.8950\n",
            "Epoch 45/130\n",
            "25/25 [==============================] - 0s 4ms/step - loss: 0.2523 - accuracy: 0.9225 - val_loss: 0.2917 - val_accuracy: 0.8950\n",
            "Epoch 46/130\n",
            "25/25 [==============================] - 0s 4ms/step - loss: 0.2457 - accuracy: 0.9262 - val_loss: 0.2877 - val_accuracy: 0.9000\n",
            "Epoch 47/130\n",
            "25/25 [==============================] - 0s 5ms/step - loss: 0.2380 - accuracy: 0.9275 - val_loss: 0.2795 - val_accuracy: 0.9000\n",
            "Epoch 48/130\n",
            "25/25 [==============================] - 0s 5ms/step - loss: 0.2316 - accuracy: 0.9287 - val_loss: 0.2746 - val_accuracy: 0.9025\n",
            "Epoch 49/130\n",
            "25/25 [==============================] - 0s 4ms/step - loss: 0.2257 - accuracy: 0.9294 - val_loss: 0.2710 - val_accuracy: 0.9125\n",
            "Epoch 50/130\n",
            "25/25 [==============================] - 0s 4ms/step - loss: 0.2197 - accuracy: 0.9337 - val_loss: 0.2642 - val_accuracy: 0.9100\n",
            "Epoch 51/130\n",
            "25/25 [==============================] - 0s 4ms/step - loss: 0.2136 - accuracy: 0.9362 - val_loss: 0.2615 - val_accuracy: 0.9125\n",
            "Epoch 52/130\n",
            "25/25 [==============================] - 0s 4ms/step - loss: 0.2083 - accuracy: 0.9356 - val_loss: 0.2560 - val_accuracy: 0.9125\n",
            "Epoch 53/130\n",
            "25/25 [==============================] - 0s 4ms/step - loss: 0.2027 - accuracy: 0.9388 - val_loss: 0.2517 - val_accuracy: 0.9150\n",
            "Epoch 54/130\n",
            "25/25 [==============================] - 0s 4ms/step - loss: 0.1977 - accuracy: 0.9406 - val_loss: 0.2487 - val_accuracy: 0.9150\n",
            "Epoch 55/130\n",
            "25/25 [==============================] - 0s 5ms/step - loss: 0.1937 - accuracy: 0.9431 - val_loss: 0.2457 - val_accuracy: 0.9250\n",
            "Epoch 56/130\n",
            "25/25 [==============================] - 0s 5ms/step - loss: 0.1889 - accuracy: 0.9444 - val_loss: 0.2399 - val_accuracy: 0.9200\n",
            "Epoch 57/130\n",
            "25/25 [==============================] - 0s 4ms/step - loss: 0.1840 - accuracy: 0.9456 - val_loss: 0.2374 - val_accuracy: 0.9225\n",
            "Epoch 58/130\n",
            "25/25 [==============================] - 0s 4ms/step - loss: 0.1816 - accuracy: 0.9431 - val_loss: 0.2333 - val_accuracy: 0.9275\n",
            "Epoch 59/130\n",
            "25/25 [==============================] - 0s 4ms/step - loss: 0.1761 - accuracy: 0.9488 - val_loss: 0.2310 - val_accuracy: 0.9250\n",
            "Epoch 60/130\n",
            "25/25 [==============================] - 0s 4ms/step - loss: 0.1720 - accuracy: 0.9475 - val_loss: 0.2273 - val_accuracy: 0.9275\n",
            "Epoch 61/130\n",
            "25/25 [==============================] - 0s 4ms/step - loss: 0.1683 - accuracy: 0.9544 - val_loss: 0.2247 - val_accuracy: 0.9300\n",
            "Epoch 62/130\n",
            "25/25 [==============================] - 0s 5ms/step - loss: 0.1646 - accuracy: 0.9531 - val_loss: 0.2184 - val_accuracy: 0.9325\n",
            "Epoch 63/130\n",
            "25/25 [==============================] - 0s 4ms/step - loss: 0.1604 - accuracy: 0.9563 - val_loss: 0.2173 - val_accuracy: 0.9300\n",
            "Epoch 64/130\n",
            "25/25 [==============================] - 0s 4ms/step - loss: 0.1571 - accuracy: 0.9556 - val_loss: 0.2142 - val_accuracy: 0.9400\n",
            "Epoch 65/130\n",
            "25/25 [==============================] - 0s 4ms/step - loss: 0.1538 - accuracy: 0.9588 - val_loss: 0.2124 - val_accuracy: 0.9425\n",
            "Epoch 66/130\n",
            "25/25 [==============================] - 0s 4ms/step - loss: 0.1509 - accuracy: 0.9581 - val_loss: 0.2101 - val_accuracy: 0.9400\n",
            "Epoch 67/130\n",
            "25/25 [==============================] - 0s 4ms/step - loss: 0.1481 - accuracy: 0.9600 - val_loss: 0.2056 - val_accuracy: 0.9450\n",
            "Epoch 68/130\n",
            "25/25 [==============================] - 0s 4ms/step - loss: 0.1458 - accuracy: 0.9619 - val_loss: 0.2048 - val_accuracy: 0.9450\n",
            "Epoch 69/130\n",
            "25/25 [==============================] - 0s 4ms/step - loss: 0.1425 - accuracy: 0.9625 - val_loss: 0.2014 - val_accuracy: 0.9475\n",
            "Epoch 70/130\n",
            "25/25 [==============================] - 0s 4ms/step - loss: 0.1400 - accuracy: 0.9631 - val_loss: 0.2002 - val_accuracy: 0.9475\n",
            "Epoch 71/130\n",
            "25/25 [==============================] - 0s 4ms/step - loss: 0.1371 - accuracy: 0.9650 - val_loss: 0.1988 - val_accuracy: 0.9475\n",
            "Epoch 72/130\n",
            "25/25 [==============================] - 0s 4ms/step - loss: 0.1343 - accuracy: 0.9669 - val_loss: 0.1957 - val_accuracy: 0.9450\n",
            "Epoch 73/130\n",
            "25/25 [==============================] - 0s 4ms/step - loss: 0.1314 - accuracy: 0.9681 - val_loss: 0.1928 - val_accuracy: 0.9450\n",
            "Epoch 74/130\n",
            "25/25 [==============================] - 0s 5ms/step - loss: 0.1291 - accuracy: 0.9681 - val_loss: 0.1917 - val_accuracy: 0.9450\n",
            "Epoch 75/130\n",
            "25/25 [==============================] - 0s 4ms/step - loss: 0.1271 - accuracy: 0.9663 - val_loss: 0.1890 - val_accuracy: 0.9450\n",
            "Epoch 76/130\n",
            "25/25 [==============================] - 0s 4ms/step - loss: 0.1245 - accuracy: 0.9675 - val_loss: 0.1866 - val_accuracy: 0.9425\n",
            "Epoch 77/130\n",
            "25/25 [==============================] - 0s 4ms/step - loss: 0.1231 - accuracy: 0.9669 - val_loss: 0.1864 - val_accuracy: 0.9425\n",
            "Epoch 78/130\n",
            "25/25 [==============================] - 0s 4ms/step - loss: 0.1206 - accuracy: 0.9675 - val_loss: 0.1827 - val_accuracy: 0.9450\n",
            "Epoch 79/130\n",
            "25/25 [==============================] - 0s 4ms/step - loss: 0.1183 - accuracy: 0.9694 - val_loss: 0.1828 - val_accuracy: 0.9425\n",
            "Epoch 80/130\n",
            "25/25 [==============================] - 0s 4ms/step - loss: 0.1166 - accuracy: 0.9725 - val_loss: 0.1820 - val_accuracy: 0.9425\n",
            "Epoch 81/130\n",
            "25/25 [==============================] - 0s 4ms/step - loss: 0.1141 - accuracy: 0.9694 - val_loss: 0.1784 - val_accuracy: 0.9425\n",
            "Epoch 82/130\n",
            "25/25 [==============================] - 0s 4ms/step - loss: 0.1126 - accuracy: 0.9719 - val_loss: 0.1781 - val_accuracy: 0.9425\n",
            "Epoch 83/130\n",
            "25/25 [==============================] - 0s 4ms/step - loss: 0.1107 - accuracy: 0.9731 - val_loss: 0.1757 - val_accuracy: 0.9425\n",
            "Epoch 84/130\n",
            "25/25 [==============================] - 0s 4ms/step - loss: 0.1092 - accuracy: 0.9719 - val_loss: 0.1748 - val_accuracy: 0.9450\n",
            "Epoch 85/130\n",
            "25/25 [==============================] - 0s 4ms/step - loss: 0.1074 - accuracy: 0.9750 - val_loss: 0.1746 - val_accuracy: 0.9425\n",
            "Epoch 86/130\n",
            "25/25 [==============================] - 0s 4ms/step - loss: 0.1062 - accuracy: 0.9719 - val_loss: 0.1717 - val_accuracy: 0.9425\n",
            "Epoch 87/130\n",
            "25/25 [==============================] - 0s 4ms/step - loss: 0.1042 - accuracy: 0.9744 - val_loss: 0.1707 - val_accuracy: 0.9400\n",
            "Epoch 88/130\n",
            "25/25 [==============================] - 0s 4ms/step - loss: 0.1026 - accuracy: 0.9750 - val_loss: 0.1705 - val_accuracy: 0.9425\n",
            "Epoch 89/130\n",
            "25/25 [==============================] - 0s 4ms/step - loss: 0.1012 - accuracy: 0.9725 - val_loss: 0.1701 - val_accuracy: 0.9450\n",
            "Epoch 90/130\n",
            "25/25 [==============================] - 0s 4ms/step - loss: 0.0999 - accuracy: 0.9762 - val_loss: 0.1678 - val_accuracy: 0.9425\n",
            "Epoch 91/130\n",
            "25/25 [==============================] - 0s 4ms/step - loss: 0.0993 - accuracy: 0.9744 - val_loss: 0.1647 - val_accuracy: 0.9425\n",
            "Epoch 92/130\n",
            "25/25 [==============================] - 0s 5ms/step - loss: 0.0972 - accuracy: 0.9756 - val_loss: 0.1654 - val_accuracy: 0.9425\n",
            "Epoch 93/130\n",
            "25/25 [==============================] - 0s 4ms/step - loss: 0.0965 - accuracy: 0.9762 - val_loss: 0.1637 - val_accuracy: 0.9425\n",
            "Epoch 94/130\n",
            "25/25 [==============================] - 0s 4ms/step - loss: 0.0945 - accuracy: 0.9756 - val_loss: 0.1627 - val_accuracy: 0.9425\n",
            "Epoch 95/130\n",
            "25/25 [==============================] - 0s 4ms/step - loss: 0.0938 - accuracy: 0.9762 - val_loss: 0.1624 - val_accuracy: 0.9450\n",
            "Epoch 96/130\n",
            "25/25 [==============================] - 0s 4ms/step - loss: 0.0926 - accuracy: 0.9781 - val_loss: 0.1628 - val_accuracy: 0.9425\n",
            "Epoch 97/130\n",
            "25/25 [==============================] - 0s 4ms/step - loss: 0.0918 - accuracy: 0.9794 - val_loss: 0.1585 - val_accuracy: 0.9425\n",
            "Epoch 98/130\n",
            "25/25 [==============================] - 0s 4ms/step - loss: 0.0911 - accuracy: 0.9775 - val_loss: 0.1588 - val_accuracy: 0.9425\n",
            "Epoch 99/130\n",
            "25/25 [==============================] - 0s 4ms/step - loss: 0.0891 - accuracy: 0.9775 - val_loss: 0.1588 - val_accuracy: 0.9425\n",
            "Epoch 100/130\n",
            "25/25 [==============================] - 0s 4ms/step - loss: 0.0876 - accuracy: 0.9787 - val_loss: 0.1571 - val_accuracy: 0.9425\n",
            "Epoch 101/130\n",
            "25/25 [==============================] - 0s 5ms/step - loss: 0.0871 - accuracy: 0.9769 - val_loss: 0.1584 - val_accuracy: 0.9450\n",
            "Epoch 102/130\n",
            "25/25 [==============================] - 0s 4ms/step - loss: 0.0857 - accuracy: 0.9806 - val_loss: 0.1569 - val_accuracy: 0.9450\n",
            "Epoch 103/130\n",
            "25/25 [==============================] - 0s 4ms/step - loss: 0.0843 - accuracy: 0.9800 - val_loss: 0.1552 - val_accuracy: 0.9450\n",
            "Epoch 104/130\n",
            "25/25 [==============================] - 0s 4ms/step - loss: 0.0834 - accuracy: 0.9800 - val_loss: 0.1542 - val_accuracy: 0.9425\n",
            "Epoch 105/130\n",
            "25/25 [==============================] - 0s 4ms/step - loss: 0.0824 - accuracy: 0.9831 - val_loss: 0.1535 - val_accuracy: 0.9425\n",
            "Epoch 106/130\n",
            "25/25 [==============================] - 0s 4ms/step - loss: 0.0814 - accuracy: 0.9831 - val_loss: 0.1534 - val_accuracy: 0.9450\n",
            "Epoch 107/130\n",
            "25/25 [==============================] - 0s 5ms/step - loss: 0.0806 - accuracy: 0.9819 - val_loss: 0.1517 - val_accuracy: 0.9475\n",
            "Epoch 108/130\n",
            "25/25 [==============================] - 0s 4ms/step - loss: 0.0797 - accuracy: 0.9819 - val_loss: 0.1521 - val_accuracy: 0.9450\n",
            "Epoch 109/130\n",
            "25/25 [==============================] - 0s 4ms/step - loss: 0.0785 - accuracy: 0.9831 - val_loss: 0.1511 - val_accuracy: 0.9450\n",
            "Epoch 110/130\n",
            "25/25 [==============================] - 0s 4ms/step - loss: 0.0777 - accuracy: 0.9831 - val_loss: 0.1502 - val_accuracy: 0.9475\n",
            "Epoch 111/130\n",
            "25/25 [==============================] - 0s 5ms/step - loss: 0.0771 - accuracy: 0.9831 - val_loss: 0.1506 - val_accuracy: 0.9475\n",
            "Epoch 112/130\n",
            "25/25 [==============================] - 0s 4ms/step - loss: 0.0757 - accuracy: 0.9837 - val_loss: 0.1488 - val_accuracy: 0.9450\n",
            "Epoch 113/130\n",
            "25/25 [==============================] - 0s 6ms/step - loss: 0.0751 - accuracy: 0.9825 - val_loss: 0.1484 - val_accuracy: 0.9525\n",
            "Epoch 114/130\n",
            "25/25 [==============================] - 0s 8ms/step - loss: 0.0740 - accuracy: 0.9844 - val_loss: 0.1473 - val_accuracy: 0.9500\n",
            "Epoch 115/130\n",
            "25/25 [==============================] - 0s 6ms/step - loss: 0.0737 - accuracy: 0.9812 - val_loss: 0.1461 - val_accuracy: 0.9550\n",
            "Epoch 116/130\n",
            "25/25 [==============================] - 0s 8ms/step - loss: 0.0729 - accuracy: 0.9831 - val_loss: 0.1459 - val_accuracy: 0.9500\n",
            "Epoch 117/130\n",
            "25/25 [==============================] - 0s 8ms/step - loss: 0.0725 - accuracy: 0.9819 - val_loss: 0.1448 - val_accuracy: 0.9550\n",
            "Epoch 118/130\n",
            "25/25 [==============================] - 0s 8ms/step - loss: 0.0712 - accuracy: 0.9862 - val_loss: 0.1455 - val_accuracy: 0.9500\n",
            "Epoch 119/130\n",
            "25/25 [==============================] - 0s 8ms/step - loss: 0.0705 - accuracy: 0.9850 - val_loss: 0.1434 - val_accuracy: 0.9525\n",
            "Epoch 120/130\n",
            "25/25 [==============================] - 0s 8ms/step - loss: 0.0702 - accuracy: 0.9837 - val_loss: 0.1432 - val_accuracy: 0.9525\n",
            "Epoch 121/130\n",
            "25/25 [==============================] - 0s 7ms/step - loss: 0.0696 - accuracy: 0.9850 - val_loss: 0.1442 - val_accuracy: 0.9525\n",
            "Epoch 122/130\n",
            "25/25 [==============================] - 0s 8ms/step - loss: 0.0686 - accuracy: 0.9862 - val_loss: 0.1425 - val_accuracy: 0.9525\n",
            "Epoch 123/130\n",
            "25/25 [==============================] - 0s 6ms/step - loss: 0.0681 - accuracy: 0.9850 - val_loss: 0.1419 - val_accuracy: 0.9550\n",
            "Epoch 124/130\n",
            "25/25 [==============================] - 0s 8ms/step - loss: 0.0670 - accuracy: 0.9844 - val_loss: 0.1407 - val_accuracy: 0.9550\n",
            "Epoch 125/130\n",
            "25/25 [==============================] - 0s 9ms/step - loss: 0.0664 - accuracy: 0.9837 - val_loss: 0.1390 - val_accuracy: 0.9525\n",
            "Epoch 126/130\n",
            "25/25 [==============================] - 0s 6ms/step - loss: 0.0665 - accuracy: 0.9850 - val_loss: 0.1383 - val_accuracy: 0.9525\n",
            "Epoch 127/130\n",
            "25/25 [==============================] - 0s 8ms/step - loss: 0.0647 - accuracy: 0.9869 - val_loss: 0.1389 - val_accuracy: 0.9525\n",
            "Epoch 128/130\n",
            "25/25 [==============================] - 0s 8ms/step - loss: 0.0643 - accuracy: 0.9850 - val_loss: 0.1384 - val_accuracy: 0.9525\n",
            "Epoch 129/130\n",
            "25/25 [==============================] - 0s 8ms/step - loss: 0.0631 - accuracy: 0.9850 - val_loss: 0.1367 - val_accuracy: 0.9550\n",
            "Epoch 130/130\n",
            "25/25 [==============================] - 0s 6ms/step - loss: 0.0630 - accuracy: 0.9850 - val_loss: 0.1363 - val_accuracy: 0.9525\n"
          ]
        }
      ]
    },
    {
      "metadata": {
        "trusted": true,
        "colab": {
          "base_uri": "https://localhost:8080/",
          "height": 449
        },
        "id": "g-M-J98eV9jF",
        "outputId": "8fc6ffa2-2c56-4429-c785-8a433968dcda"
      },
      "cell_type": "code",
      "source": [
        "plt.plot(history.history['accuracy'])\n",
        "plt.plot(history.history['val_accuracy'])\n",
        "plt.xlabel('no of epochs')\n",
        "plt.ylabel('Accuracy')\n",
        "plt.legend(['train','test'], loc='upper left')\n",
        "plt.show()"
      ],
      "execution_count": null,
      "outputs": [
        {
          "output_type": "display_data",
          "data": {
            "text/plain": [
              "<Figure size 640x480 with 1 Axes>"
            ],
            "image/png": "[encoded data removed]"
          },
          "metadata": {}
        }
      ]
    },
    {
      "metadata": {
        "trusted": true,
        "colab": {
          "base_uri": "https://localhost:8080/",
          "height": 449
        },
        "id": "8ocw8N-ZV9jF",
        "outputId": "d583bb56-c2ea-42ef-cb74-9321749416ea"
      },
      "cell_type": "code",
      "source": [
        "plt.plot(history.history['loss'])\n",
        "plt.plot(history.history['val_loss'])\n",
        "plt.xlabel('no of epochs')\n",
        "plt.ylabel('Loss')\n",
        "plt.legend(['train','test'], loc='upper right')\n",
        "plt.show()"
      ],
      "execution_count": null,
      "outputs": [
        {
          "output_type": "display_data",
          "data": {
            "text/plain": [
              "<Figure size 640x480 with 1 Axes>"
            ],
            "image/png": "[encoded data removed]"
          },
          "metadata": {}
        }
      ]
    },
    {
      "cell_type": "code",
      "source": [
        "y_pred = model.predict(X_valid)\n",
        "\n",
        "pred = []\n",
        "for i in range(len(y_pred)):\n",
        "    pred.append(np.argmax(y_pred[i]))\n",
        "\n",
        "test = []\n",
        "for i in range(len(y_valid)):\n",
        "    test.append(np.argmax(y_valid[i]))"
      ],
      "metadata": {
        "colab": {
          "base_uri": "https://localhost:8080/"
        },
        "id": "JlAjgXyXlrCT",
        "outputId": "4574b34e-387f-42ab-a59b-457ddfb50b69"
      },
      "execution_count": null,
      "outputs": [
        {
          "output_type": "stream",
          "name": "stdout",
          "text": [
            "13/13 [==============================] - 0s 2ms/step\n"
          ]
        }
      ]
    },
    {
      "cell_type": "code",
      "source": [
        "cm = confusion_matrix(test, pred)\n",
        "disp = ConfusionMatrixDisplay(cm)\n",
        "disp.plot(cmap=plt.cm.Blues)\n",
        "plt.show()"
      ],
      "metadata": {
        "id": "4bD3ktF4ba7k",
        "colab": {
          "base_uri": "https://localhost:8080/",
          "height": 449
        },
        "outputId": "42574f36-bc9f-4a61-b413-99c2d9cd0020"
      },
      "execution_count": null,
      "outputs": [
        {
          "output_type": "display_data",
          "data": {
            "text/plain": [
              "<Figure size 640x480 with 2 Axes>"
            ],
            "image/png": "[encoded data removed]"
          },
          "metadata": {}
        }
      ]
    },
    {
      "cell_type": "code",
      "source": [
        "print(report)"
      ],
      "metadata": {
        "colab": {
          "base_uri": "https://localhost:8080/"
        },
        "id": "Cnr4QYZKml3_",
        "outputId": "aac342a8-3e65-4967-f5f8-4ba0fd1aacd4"
      },
      "execution_count": null,
      "outputs": [
        {
          "output_type": "stream",
          "name": "stdout",
          "text": [
            "              precision    recall  f1-score   support\n",
            "\n",
            "           0       0.97      0.98      0.97        97\n",
            "           1       0.96      0.95      0.96       101\n",
            "           2       0.93      0.93      0.93        99\n",
            "           3       0.95      0.95      0.95       103\n",
            "\n",
            "    accuracy                           0.95       400\n",
            "   macro avg       0.95      0.95      0.95       400\n",
            "weighted avg       0.95      0.95      0.95       400\n",
            "\n"
          ]
        }
      ]
    },
    {
      "cell_type": "markdown",
      "source": [
        "# Dimensionality Reduction"
      ],
      "metadata": {
        "id": "di5PIUgr5Xii"
      }
    },
    {
      "cell_type": "code",
      "source": [
        "df = pd.read_csv('/mntDrive/MyDrive/AI/Dimensionality-Reduction/train.csv')"
      ],
      "metadata": {
        "id": "Y8oXbIBvvTun"
      },
      "execution_count": null,
      "outputs": []
    },
    {
      "cell_type": "code",
      "source": [
        "df.head()"
      ],
      "metadata": {
        "colab": {
          "base_uri": "https://localhost:8080/",
          "height": 299
        },
        "id": "4XrmvDqg_9zm",
        "outputId": "494be114-8b4c-4ea5-97bb-b8e9642fdf6b"
      },
      "execution_count": null,
      "outputs": [
        {
          "output_type": "execute_result",
          "data": {
            "text/plain": [
              "   battery_power  blue  clock_speed  dual_sim  fc  four_g  int_memory  m_dep  \\\n",
              "0            842     0          2.2         0   1       0           7    0.6   \n",
              "1           1021     1          0.5         1   0       1          53    0.7   \n",
              "2            563     1          0.5         1   2       1          41    0.9   \n",
              "3            615     1          2.5         0   0       0          10    0.8   \n",
              "4           1821     1          1.2         0  13       1          44    0.6   \n",
              "\n",
              "   mobile_wt  n_cores  ...  px_height  px_width   ram  sc_h  sc_w  talk_time  \\\n",
              "0        188        2  ...         20       756  2549     9     7         19   \n",
              "1        136        3  ...        905      1988  2631    17     3          7   \n",
              "2        145        5  ...       1263      1716  2603    11     2          9   \n",
              "3        131        6  ...       1216      1786  2769    16     8         11   \n",
              "4        141        2  ...       1208      1212  1411     8     2         15   \n",
              "\n",
              "   three_g  touch_screen  wifi  price_range  \n",
              "0        0             0     1            1  \n",
              "1        1             1     0            2  \n",
              "2        1             1     0            2  \n",
              "3        1             0     0            2  \n",
              "4        1             1     0            1  \n",
              "\n",
              "[5 rows x 21 columns]"
            ],
            "text/html": [
              "\n",
              "  <div id=\"df-18e77278-174d-487d-b9ee-15e399b8432c\">\n",
              "    <div class=\"colab-df-container\">\n",
              "      <div>\n",
              "<style scoped>\n",
              "    .dataframe tbody tr th:only-of-type {\n",
              "        vertical-align: middle;\n",
              "    }\n",
              "\n",
              "    .dataframe tbody tr th {\n",
              "        vertical-align: top;\n",
              "    }\n",
              "\n",
              "    .dataframe thead th {\n",
              "        text-align: right;\n",
              "    }\n",
              "</style>\n",
              "<table border=\"1\" class=\"dataframe\">\n",
              "  <thead>\n",
              "    <tr style=\"text-align: right;\">\n",
              "      <th></th>\n",
              "      <th>battery_power</th>\n",
              "      <th>blue</th>\n",
              "      <th>clock_speed</th>\n",
              "      <th>dual_sim</th>\n",
              "      <th>fc</th>\n",
              "      <th>four_g</th>\n",
              "      <th>int_memory</th>\n",
              "      <th>m_dep</th>\n",
              "      <th>mobile_wt</th>\n",
              "      <th>n_cores</th>\n",
              "      <th>...</th>\n",
              "      <th>px_height</th>\n",
              "      <th>px_width</th>\n",
              "      <th>ram</th>\n",
              "      <th>sc_h</th>\n",
              "      <th>sc_w</th>\n",
              "      <th>talk_time</th>\n",
              "      <th>three_g</th>\n",
              "      <th>touch_screen</th>\n",
              "      <th>wifi</th>\n",
              "      <th>price_range</th>\n",
              "    </tr>\n",
              "  </thead>\n",
              "  <tbody>\n",
              "    <tr>\n",
              "      <th>0</th>\n",
              "      <td>842</td>\n",
              "      <td>0</td>\n",
              "      <td>2.2</td>\n",
              "      <td>0</td>\n",
              "      <td>1</td>\n",
              "      <td>0</td>\n",
              "      <td>7</td>\n",
              "      <td>0.6</td>\n",
              "      <td>188</td>\n",
              "      <td>2</td>\n",
              "      <td>...</td>\n",
              "      <td>20</td>\n",
              "      <td>756</td>\n",
              "      <td>2549</td>\n",
              "      <td>9</td>\n",
              "      <td>7</td>\n",
              "      <td>19</td>\n",
              "      <td>0</td>\n",
              "      <td>0</td>\n",
              "      <td>1</td>\n",
              "      <td>1</td>\n",
              "    </tr>\n",
              "    <tr>\n",
              "      <th>1</th>\n",
              "      <td>1021</td>\n",
              "      <td>1</td>\n",
              "      <td>0.5</td>\n",
              "      <td>1</td>\n",
              "      <td>0</td>\n",
              "      <td>1</td>\n",
              "      <td>53</td>\n",
              "      <td>0.7</td>\n",
              "      <td>136</td>\n",
              "      <td>3</td>\n",
              "      <td>...</td>\n",
              "      <td>905</td>\n",
              "      <td>1988</td>\n",
              "      <td>2631</td>\n",
              "      <td>17</td>\n",
              "      <td>3</td>\n",
              "      <td>7</td>\n",
              "      <td>1</td>\n",
              "      <td>1</td>\n",
              "      <td>0</td>\n",
              "      <td>2</td>\n",
              "    </tr>\n",
              "    <tr>\n",
              "      <th>2</th>\n",
              "      <td>563</td>\n",
              "      <td>1</td>\n",
              "      <td>0.5</td>\n",
              "      <td>1</td>\n",
              "      <td>2</td>\n",
              "      <td>1</td>\n",
              "      <td>41</td>\n",
              "      <td>0.9</td>\n",
              "      <td>145</td>\n",
              "      <td>5</td>\n",
              "      <td>...</td>\n",
              "      <td>1263</td>\n",
              "      <td>1716</td>\n",
              "      <td>2603</td>\n",
              "      <td>11</td>\n",
              "      <td>2</td>\n",
              "      <td>9</td>\n",
              "      <td>1</td>\n",
              "      <td>1</td>\n",
              "      <td>0</td>\n",
              "      <td>2</td>\n",
              "    </tr>\n",
              "    <tr>\n",
              "      <th>3</th>\n",
              "      <td>615</td>\n",
              "      <td>1</td>\n",
              "      <td>2.5</td>\n",
              "      <td>0</td>\n",
              "      <td>0</td>\n",
              "      <td>0</td>\n",
              "      <td>10</td>\n",
              "      <td>0.8</td>\n",
              "      <td>131</td>\n",
              "      <td>6</td>\n",
              "      <td>...</td>\n",
              "      <td>1216</td>\n",
              "      <td>1786</td>\n",
              "      <td>2769</td>\n",
              "      <td>16</td>\n",
              "      <td>8</td>\n",
              "      <td>11</td>\n",
              "      <td>1</td>\n",
              "      <td>0</td>\n",
              "      <td>0</td>\n",
              "      <td>2</td>\n",
              "    </tr>\n",
              "    <tr>\n",
              "      <th>4</th>\n",
              "      <td>1821</td>\n",
              "      <td>1</td>\n",
              "      <td>1.2</td>\n",
              "      <td>0</td>\n",
              "      <td>13</td>\n",
              "      <td>1</td>\n",
              "      <td>44</td>\n",
              "      <td>0.6</td>\n",
              "      <td>141</td>\n",
              "      <td>2</td>\n",
              "      <td>...</td>\n",
              "      <td>1208</td>\n",
              "      <td>1212</td>\n",
              "      <td>1411</td>\n",
              "      <td>8</td>\n",
              "      <td>2</td>\n",
              "      <td>15</td>\n",
              "      <td>1</td>\n",
              "      <td>1</td>\n",
              "      <td>0</td>\n",
              "      <td>1</td>\n",
              "    </tr>\n",
              "  </tbody>\n",
              "</table>\n",
              "<p>5 rows × 21 columns</p>\n",
              "</div>\n",
              "      <button class=\"colab-df-convert\" onclick=\"convertToInteractive('df-18e77278-174d-487d-b9ee-15e399b8432c')\"\n",
              "              title=\"Convert this dataframe to an interactive table.\"\n",
              "              style=\"display:none;\">\n",
              "        \n",
              "  <svg xmlns=\"http://www.w3.org/2000/svg\" height=\"24px\"viewBox=\"0 0 24 24\"\n",
              "       width=\"24px\">\n",
              "    <path d=\"M0 0h24v24H0V0z\" fill=\"none\"/>\n",
              "    <path d=\"M18.56 5.44l.94 2.06.94-2.06 2.06-.94-2.06-.94-.94-2.06-.94 2.06-2.06.94zm-11 1L8.5 8.5l.94-2.06 2.06-.94-2.06-.94L8.5 2.5l-.94 2.06-2.06.94zm10 10l.94 2.06.94-2.06 2.06-.94-2.06-.94-.94-2.06-.94 2.06-2.06.94z\"/><path d=\"M17.41 7.96l-1.37-1.37c-.4-.4-.92-.59-1.43-.59-.52 0-1.04.2-1.43.59L10.3 9.45l-7.72 7.72c-.78.78-.78 2.05 0 2.83L4 21.41c.39.39.9.59 1.41.59.51 0 1.02-.2 1.41-.59l7.78-7.78 2.81-2.81c.8-.78.8-2.07 0-2.86zM5.41 20L4 18.59l7.72-7.72 1.47 1.35L5.41 20z\"/>\n",
              "  </svg>\n",
              "      </button>\n",
              "      \n",
              "  <style>\n",
              "    .colab-df-container {\n",
              "      display:flex;\n",
              "      flex-wrap:wrap;\n",
              "      gap: 12px;\n",
              "    }\n",
              "\n",
              "    .colab-df-convert {\n",
              "      background-color: #E8F0FE;\n",
              "      border: none;\n",
              "      border-radius: 50%;\n",
              "      cursor: pointer;\n",
              "      display: none;\n",
              "      fill: #1967D2;\n",
              "      height: 32px;\n",
              "      padding: 0 0 0 0;\n",
              "      width: 32px;\n",
              "    }\n",
              "\n",
              "    .colab-df-convert:hover {\n",
              "      background-color: #E2EBFA;\n",
              "      box-shadow: 0px 1px 2px rgba(60, 64, 67, 0.3), 0px 1px 3px 1px rgba(60, 64, 67, 0.15);\n",
              "      fill: #174EA6;\n",
              "    }\n",
              "\n",
              "    [theme=dark] .colab-df-convert {\n",
              "      background-color: #3B4455;\n",
              "      fill: #D2E3FC;\n",
              "    }\n",
              "\n",
              "    [theme=dark] .colab-df-convert:hover {\n",
              "      background-color: #434B5C;\n",
              "      box-shadow: 0px 1px 3px 1px rgba(0, 0, 0, 0.15);\n",
              "      filter: drop-shadow(0px 1px 2px rgba(0, 0, 0, 0.3));\n",
              "      fill: #FFFFFF;\n",
              "    }\n",
              "  </style>\n",
              "\n",
              "      <script>\n",
              "        const buttonEl =\n",
              "          document.querySelector('#df-18e77278-174d-487d-b9ee-15e399b8432c button.colab-df-convert');\n",
              "        buttonEl.style.display =\n",
              "          google.colab.kernel.accessAllowed ? 'block' : 'none';\n",
              "\n",
              "        async function convertToInteractive(key) {\n",
              "          const element = document.querySelector('#df-18e77278-174d-487d-b9ee-15e399b8432c');\n",
              "          const dataTable =\n",
              "            await google.colab.kernel.invokeFunction('convertToInteractive',\n",
              "                                                     [key], {});\n",
              "          if (!dataTable) return;\n",
              "\n",
              "          const docLinkHtml = 'Like what you see? Visit the ' +\n",
              "            '<a target=\"_blank\" href=https://colab.research.google.com/notebooks/data_table.ipynb>data table notebook</a>'\n",
              "            + ' to learn more about interactive tables.';\n",
              "          element.innerHTML = '';\n",
              "          dataTable['output_type'] = 'display_data';\n",
              "          await google.colab.output.renderOutput(dataTable, element);\n",
              "          const docLink = document.createElement('div');\n",
              "          docLink.innerHTML = docLinkHtml;\n",
              "          element.appendChild(docLink);\n",
              "        }\n",
              "      </script>\n",
              "    </div>\n",
              "  </div>\n",
              "  "
            ]
          },
          "metadata": {},
          "execution_count": 68
        }
      ]
    },
    {
      "cell_type": "code",
      "source": [
        "X = df.drop('price_range', axis='columns')\n",
        "y = df['price_range']"
      ],
      "metadata": {
        "id": "jC7SN1U2__-m"
      },
      "execution_count": null,
      "outputs": []
    },
    {
      "cell_type": "code",
      "source": [
        "print(X.shape, y.shape)"
      ],
      "metadata": {
        "colab": {
          "base_uri": "https://localhost:8080/"
        },
        "id": "UxE-kQ1rABoV",
        "outputId": "d2f30bbe-5aaa-402c-e833-82de87b4424a"
      },
      "execution_count": null,
      "outputs": [
        {
          "output_type": "stream",
          "name": "stdout",
          "text": [
            "(2000, 20) (2000,)\n"
          ]
        }
      ]
    },
    {
      "cell_type": "code",
      "source": [
        "scale = StandardScaler()\n",
        "X = scale.fit_transform(X)"
      ],
      "metadata": {
        "id": "Y4oTwfFZADTA"
      },
      "execution_count": null,
      "outputs": []
    },
    {
      "cell_type": "code",
      "source": [
        "model = LogisticRegression(class_weight='balanced')\n",
        "cv = RepeatedStratifiedKFold(n_splits=5, n_repeats=3, random_state=3)\n",
        "scores = cross_val_score(model, X, y, scoring='accuracy', cv=cv, n_jobs=-1)\n",
        "print(np.mean(scores))"
      ],
      "metadata": {
        "colab": {
          "base_uri": "https://localhost:8080/"
        },
        "id": "7vSsh9MCAE78",
        "outputId": "ac26cf52-c1c4-40f8-e6c1-81d5332070f7"
      },
      "execution_count": null,
      "outputs": [
        {
          "output_type": "stream",
          "name": "stdout",
          "text": [
            "0.9591666666666666\n"
          ]
        }
      ]
    },
    {
      "cell_type": "markdown",
      "source": [
        " **Principal Component Analysis**"
      ],
      "metadata": {
        "id": "PwihfBom5yRi"
      }
    },
    {
      "cell_type": "code",
      "source": [
        "steps = [('PCA', PCA(n_components=5)), ('m', LogisticRegression(class_weight='balanced'))]\n",
        "model = Pipeline(steps=steps)"
      ],
      "metadata": {
        "id": "LDBidqQxAHuf"
      },
      "execution_count": null,
      "outputs": []
    },
    {
      "cell_type": "code",
      "source": [
        "cv = RepeatedStratifiedKFold(n_splits=20, n_repeats=5, random_state= 5)\n",
        "scores = cross_val_score(model, X, y, scoring='accuracy', cv=cv, n_jobs=-1)\n",
        "print(np.mean(scores))"
      ],
      "metadata": {
        "colab": {
          "base_uri": "https://localhost:8080/"
        },
        "id": "bqzgfdF3AJy1",
        "outputId": "4e78806e-cb05-43f1-e8fe-06be6ca388a8"
      },
      "execution_count": null,
      "outputs": [
        {
          "output_type": "stream",
          "name": "stdout",
          "text": [
            "0.32199999999999995\n"
          ]
        }
      ]
    },
    {
      "cell_type": "markdown",
      "source": [
        "**Isomap Embedding**"
      ],
      "metadata": {
        "id": "pXH1zDmu551f"
      }
    },
    {
      "cell_type": "code",
      "source": [
        "steps = [('ISO', PCA(n_components=5)), ('m', LogisticRegression(class_weight='balanced'))]\n",
        "model = Pipeline(steps=steps)"
      ],
      "metadata": {
        "id": "HAzWZNJ7ALgT"
      },
      "execution_count": null,
      "outputs": []
    },
    {
      "cell_type": "code",
      "source": [
        "model = LogisticRegression(class_weight='balanced')\n",
        "cv = RepeatedStratifiedKFold(n_splits=10, n_repeats=3, random_state= 5)\n",
        "scores = cross_val_score(model, X, y, scoring='accuracy', cv=cv, n_jobs=-1)\n",
        "print(np.mean(scores))"
      ],
      "metadata": {
        "colab": {
          "base_uri": "https://localhost:8080/"
        },
        "id": "eN_WTMpgANvZ",
        "outputId": "79ae5a70-9d53-4203-d697-e7c2c4979d64"
      },
      "execution_count": null,
      "outputs": [
        {
          "output_type": "stream",
          "name": "stdout",
          "text": [
            "0.9646666666666666\n"
          ]
        }
      ]
    }
  ],
  "metadata": {
    "kernelspec": {
      "name": "python3",
      "display_name": "Python 3",
      "language": "python"
    },
    "language_info": {
      "name": "python",
      "version": "3.7.6",
      "mimetype": "text/x-python",
      "codemirror_mode": {
        "name": "ipython",
        "version": 3
      },
      "pygments_lexer": "ipython3",
      "nbconvert_exporter": "python",
      "file_extension": ".py"
    },
    "colab": {
      "provenance": [],
      "gpuType": "T4"
    },
    "accelerator": "GPU",
    "gpuClass": "standard"
  },
  "nbformat": 4,
  "nbformat_minor": 0
}